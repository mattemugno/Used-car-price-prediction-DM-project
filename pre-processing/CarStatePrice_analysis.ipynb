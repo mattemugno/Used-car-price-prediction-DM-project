{
 "cells": [
  {
   "cell_type": "code",
   "execution_count": 1,
   "id": "ddebefde",
   "metadata": {
    "pycharm": {
     "name": "#%%\n"
    }
   },
   "outputs": [],
   "source": [
    "import pandas as pd\n",
    "import matplotlib.pyplot as plt\n",
    "\n",
    "pd.set_option(\"display.max_columns\", None)\n",
    "dfIT = pd.read_csv(\"C://Users//matte//OneDrive//Desktop//data mining//datasetAutoScout//bymodel//grouped_carsIT.csv\", encoding='unicode_escape', delimiter =\",\", quotechar=\"'\")\n",
    "dfIT['Country'] = 'IT'"
   ]
  },
  {
   "cell_type": "code",
   "execution_count": 2,
   "id": "daa3cc37",
   "metadata": {
    "pycharm": {
     "name": "#%%\n"
    }
   },
   "outputs": [],
   "source": [
    "dfDE = pd.read_csv(\"C://Users//matte//OneDrive//Desktop//data mining//datasetAutoScout//bymodel//grouped_carsDE.csv\", encoding='unicode_escape', delimiter =\",\", quotechar=\"'\")\n",
    "dfDE['Country'] = 'DE'"
   ]
  },
  {
   "cell_type": "code",
   "execution_count": 3,
   "id": "18307614",
   "metadata": {
    "pycharm": {
     "name": "#%%\n"
    }
   },
   "outputs": [],
   "source": [
    "dfFR = pd.read_csv(\"C://Users//matte//OneDrive//Desktop//data mining//datasetAutoScout//bymodel//grouped_carsFR.csv\", encoding='unicode_escape', delimiter =\",\", quotechar=\"'\")\n",
    "dfFR['Country'] = 'FR'"
   ]
  },
  {
   "cell_type": "code",
   "execution_count": 4,
   "id": "286bc860",
   "metadata": {
    "pycharm": {
     "name": "#%%\n"
    }
   },
   "outputs": [],
   "source": [
    "dfES = pd.read_csv(\"C://Users//matte//OneDrive//Desktop//data mining//datasetAutoScout//bymodel//grouped_carsES.csv\", encoding='unicode_escape', delimiter =\",\", quotechar=\"'\")\n",
    "dfES['Country'] = 'ES'"
   ]
  },
  {
   "cell_type": "code",
   "execution_count": 5,
   "id": "2cf09a2d",
   "metadata": {
    "pycharm": {
     "name": "#%%\n"
    }
   },
   "outputs": [
    {
     "data": {
      "text/html": [
       "<div>\n",
       "<style scoped>\n",
       "    .dataframe tbody tr th:only-of-type {\n",
       "        vertical-align: middle;\n",
       "    }\n",
       "\n",
       "    .dataframe tbody tr th {\n",
       "        vertical-align: top;\n",
       "    }\n",
       "\n",
       "    .dataframe thead th {\n",
       "        text-align: right;\n",
       "    }\n",
       "</style>\n",
       "<table border=\"1\" class=\"dataframe\">\n",
       "  <thead>\n",
       "    <tr style=\"text-align: right;\">\n",
       "      <th></th>\n",
       "      <th>Manufacturer</th>\n",
       "      <th>Model</th>\n",
       "      <th>Price</th>\n",
       "      <th>Country</th>\n",
       "    </tr>\n",
       "  </thead>\n",
       "  <tbody>\n",
       "    <tr>\n",
       "      <th>0</th>\n",
       "      <td>Renault</td>\n",
       "      <td>captur</td>\n",
       "      <td>22369.328000</td>\n",
       "      <td>IT</td>\n",
       "    </tr>\n",
       "    <tr>\n",
       "      <th>1</th>\n",
       "      <td>Audi</td>\n",
       "      <td>a1</td>\n",
       "      <td>27257.579747</td>\n",
       "      <td>IT</td>\n",
       "    </tr>\n",
       "    <tr>\n",
       "      <th>2</th>\n",
       "      <td>BMW</td>\n",
       "      <td>x3</td>\n",
       "      <td>55861.993056</td>\n",
       "      <td>IT</td>\n",
       "    </tr>\n",
       "    <tr>\n",
       "      <th>3</th>\n",
       "      <td>Ford</td>\n",
       "      <td>focus</td>\n",
       "      <td>23293.728916</td>\n",
       "      <td>IT</td>\n",
       "    </tr>\n",
       "    <tr>\n",
       "      <th>4</th>\n",
       "      <td>Toyota</td>\n",
       "      <td>yaris</td>\n",
       "      <td>23621.160000</td>\n",
       "      <td>IT</td>\n",
       "    </tr>\n",
       "    <tr>\n",
       "      <th>5</th>\n",
       "      <td>Citroen</td>\n",
       "      <td>c3</td>\n",
       "      <td>16524.450658</td>\n",
       "      <td>IT</td>\n",
       "    </tr>\n",
       "    <tr>\n",
       "      <th>6</th>\n",
       "      <td>Volkswagen</td>\n",
       "      <td>golf</td>\n",
       "      <td>30328.117493</td>\n",
       "      <td>IT</td>\n",
       "    </tr>\n",
       "    <tr>\n",
       "      <th>7</th>\n",
       "      <td>Volkswagen</td>\n",
       "      <td>polo</td>\n",
       "      <td>18399.377581</td>\n",
       "      <td>IT</td>\n",
       "    </tr>\n",
       "    <tr>\n",
       "      <th>8</th>\n",
       "      <td>Audi</td>\n",
       "      <td>a3</td>\n",
       "      <td>34687.745455</td>\n",
       "      <td>IT</td>\n",
       "    </tr>\n",
       "    <tr>\n",
       "      <th>9</th>\n",
       "      <td>Volvo</td>\n",
       "      <td>xc40</td>\n",
       "      <td>39342.261538</td>\n",
       "      <td>IT</td>\n",
       "    </tr>\n",
       "    <tr>\n",
       "      <th>10</th>\n",
       "      <td>Fiat</td>\n",
       "      <td>500</td>\n",
       "      <td>15147.932115</td>\n",
       "      <td>IT</td>\n",
       "    </tr>\n",
       "    <tr>\n",
       "      <th>11</th>\n",
       "      <td>Citroen</td>\n",
       "      <td>c4</td>\n",
       "      <td>23881.257143</td>\n",
       "      <td>IT</td>\n",
       "    </tr>\n",
       "    <tr>\n",
       "      <th>12</th>\n",
       "      <td>Opel</td>\n",
       "      <td>corsa</td>\n",
       "      <td>16736.340050</td>\n",
       "      <td>IT</td>\n",
       "    </tr>\n",
       "    <tr>\n",
       "      <th>13</th>\n",
       "      <td>BMW</td>\n",
       "      <td>x1</td>\n",
       "      <td>40438.139286</td>\n",
       "      <td>IT</td>\n",
       "    </tr>\n",
       "    <tr>\n",
       "      <th>14</th>\n",
       "      <td>Ford</td>\n",
       "      <td>fiesta</td>\n",
       "      <td>18297.989051</td>\n",
       "      <td>IT</td>\n",
       "    </tr>\n",
       "    <tr>\n",
       "      <th>0</th>\n",
       "      <td>Renault</td>\n",
       "      <td>captur</td>\n",
       "      <td>22718.260054</td>\n",
       "      <td>DE</td>\n",
       "    </tr>\n",
       "    <tr>\n",
       "      <th>1</th>\n",
       "      <td>Audi</td>\n",
       "      <td>a1</td>\n",
       "      <td>26777.513784</td>\n",
       "      <td>DE</td>\n",
       "    </tr>\n",
       "    <tr>\n",
       "      <th>2</th>\n",
       "      <td>BMW</td>\n",
       "      <td>x3</td>\n",
       "      <td>53107.781407</td>\n",
       "      <td>DE</td>\n",
       "    </tr>\n",
       "    <tr>\n",
       "      <th>3</th>\n",
       "      <td>Ford</td>\n",
       "      <td>focus</td>\n",
       "      <td>27260.837563</td>\n",
       "      <td>DE</td>\n",
       "    </tr>\n",
       "    <tr>\n",
       "      <th>4</th>\n",
       "      <td>Toyota</td>\n",
       "      <td>yaris</td>\n",
       "      <td>24258.592453</td>\n",
       "      <td>DE</td>\n",
       "    </tr>\n",
       "    <tr>\n",
       "      <th>5</th>\n",
       "      <td>Citroen</td>\n",
       "      <td>c3</td>\n",
       "      <td>16975.720000</td>\n",
       "      <td>DE</td>\n",
       "    </tr>\n",
       "    <tr>\n",
       "      <th>6</th>\n",
       "      <td>Volkswagen</td>\n",
       "      <td>golf</td>\n",
       "      <td>31848.613636</td>\n",
       "      <td>DE</td>\n",
       "    </tr>\n",
       "    <tr>\n",
       "      <th>7</th>\n",
       "      <td>Volkswagen</td>\n",
       "      <td>polo</td>\n",
       "      <td>22158.505025</td>\n",
       "      <td>DE</td>\n",
       "    </tr>\n",
       "    <tr>\n",
       "      <th>8</th>\n",
       "      <td>Audi</td>\n",
       "      <td>a3</td>\n",
       "      <td>33271.100251</td>\n",
       "      <td>DE</td>\n",
       "    </tr>\n",
       "    <tr>\n",
       "      <th>9</th>\n",
       "      <td>Volvo</td>\n",
       "      <td>xc40</td>\n",
       "      <td>40543.720000</td>\n",
       "      <td>DE</td>\n",
       "    </tr>\n",
       "    <tr>\n",
       "      <th>10</th>\n",
       "      <td>Fiat</td>\n",
       "      <td>500</td>\n",
       "      <td>15490.948127</td>\n",
       "      <td>DE</td>\n",
       "    </tr>\n",
       "    <tr>\n",
       "      <th>11</th>\n",
       "      <td>Citroen</td>\n",
       "      <td>c4</td>\n",
       "      <td>25484.901639</td>\n",
       "      <td>DE</td>\n",
       "    </tr>\n",
       "    <tr>\n",
       "      <th>12</th>\n",
       "      <td>Opel</td>\n",
       "      <td>corsa</td>\n",
       "      <td>18643.766332</td>\n",
       "      <td>DE</td>\n",
       "    </tr>\n",
       "    <tr>\n",
       "      <th>13</th>\n",
       "      <td>BMW</td>\n",
       "      <td>x1</td>\n",
       "      <td>39117.899749</td>\n",
       "      <td>DE</td>\n",
       "    </tr>\n",
       "    <tr>\n",
       "      <th>14</th>\n",
       "      <td>Ford</td>\n",
       "      <td>fiesta</td>\n",
       "      <td>20098.654135</td>\n",
       "      <td>DE</td>\n",
       "    </tr>\n",
       "    <tr>\n",
       "      <th>0</th>\n",
       "      <td>Ford</td>\n",
       "      <td>fiesta</td>\n",
       "      <td>15222.944785</td>\n",
       "      <td>ES</td>\n",
       "    </tr>\n",
       "    <tr>\n",
       "      <th>1</th>\n",
       "      <td>Renault</td>\n",
       "      <td>captur</td>\n",
       "      <td>21100.963855</td>\n",
       "      <td>ES</td>\n",
       "    </tr>\n",
       "    <tr>\n",
       "      <th>2</th>\n",
       "      <td>Audi</td>\n",
       "      <td>a1</td>\n",
       "      <td>23719.864865</td>\n",
       "      <td>ES</td>\n",
       "    </tr>\n",
       "    <tr>\n",
       "      <th>3</th>\n",
       "      <td>BMW</td>\n",
       "      <td>x3</td>\n",
       "      <td>53653.076923</td>\n",
       "      <td>ES</td>\n",
       "    </tr>\n",
       "    <tr>\n",
       "      <th>4</th>\n",
       "      <td>Toyota</td>\n",
       "      <td>yaris</td>\n",
       "      <td>18882.748899</td>\n",
       "      <td>ES</td>\n",
       "    </tr>\n",
       "    <tr>\n",
       "      <th>5</th>\n",
       "      <td>Ford</td>\n",
       "      <td>focus</td>\n",
       "      <td>21394.958678</td>\n",
       "      <td>ES</td>\n",
       "    </tr>\n",
       "    <tr>\n",
       "      <th>6</th>\n",
       "      <td>Citroen</td>\n",
       "      <td>c3</td>\n",
       "      <td>15741.790036</td>\n",
       "      <td>ES</td>\n",
       "    </tr>\n",
       "    <tr>\n",
       "      <th>7</th>\n",
       "      <td>Volkswagen</td>\n",
       "      <td>golf</td>\n",
       "      <td>28905.598101</td>\n",
       "      <td>ES</td>\n",
       "    </tr>\n",
       "    <tr>\n",
       "      <th>8</th>\n",
       "      <td>Volkswagen</td>\n",
       "      <td>polo</td>\n",
       "      <td>18815.753521</td>\n",
       "      <td>ES</td>\n",
       "    </tr>\n",
       "    <tr>\n",
       "      <th>9</th>\n",
       "      <td>Audi</td>\n",
       "      <td>a3</td>\n",
       "      <td>30901.858357</td>\n",
       "      <td>ES</td>\n",
       "    </tr>\n",
       "    <tr>\n",
       "      <th>10</th>\n",
       "      <td>Fiat</td>\n",
       "      <td>500</td>\n",
       "      <td>14625.336364</td>\n",
       "      <td>ES</td>\n",
       "    </tr>\n",
       "    <tr>\n",
       "      <th>11</th>\n",
       "      <td>Volvo</td>\n",
       "      <td>xc40</td>\n",
       "      <td>34928.555556</td>\n",
       "      <td>ES</td>\n",
       "    </tr>\n",
       "    <tr>\n",
       "      <th>12</th>\n",
       "      <td>Opel</td>\n",
       "      <td>corsa</td>\n",
       "      <td>15392.690583</td>\n",
       "      <td>ES</td>\n",
       "    </tr>\n",
       "    <tr>\n",
       "      <th>13</th>\n",
       "      <td>Citroen</td>\n",
       "      <td>c4</td>\n",
       "      <td>22888.560748</td>\n",
       "      <td>ES</td>\n",
       "    </tr>\n",
       "    <tr>\n",
       "      <th>14</th>\n",
       "      <td>BMW</td>\n",
       "      <td>x1</td>\n",
       "      <td>37139.835165</td>\n",
       "      <td>ES</td>\n",
       "    </tr>\n",
       "    <tr>\n",
       "      <th>0</th>\n",
       "      <td>Ford</td>\n",
       "      <td>fiesta</td>\n",
       "      <td>16430.115385</td>\n",
       "      <td>FR</td>\n",
       "    </tr>\n",
       "    <tr>\n",
       "      <th>1</th>\n",
       "      <td>Renault</td>\n",
       "      <td>captur</td>\n",
       "      <td>22786.758410</td>\n",
       "      <td>FR</td>\n",
       "    </tr>\n",
       "    <tr>\n",
       "      <th>2</th>\n",
       "      <td>Audi</td>\n",
       "      <td>a1</td>\n",
       "      <td>27800.494118</td>\n",
       "      <td>FR</td>\n",
       "    </tr>\n",
       "    <tr>\n",
       "      <th>3</th>\n",
       "      <td>BMW</td>\n",
       "      <td>x3</td>\n",
       "      <td>57721.186869</td>\n",
       "      <td>FR</td>\n",
       "    </tr>\n",
       "    <tr>\n",
       "      <th>4</th>\n",
       "      <td>Toyota</td>\n",
       "      <td>yaris</td>\n",
       "      <td>21070.620690</td>\n",
       "      <td>FR</td>\n",
       "    </tr>\n",
       "    <tr>\n",
       "      <th>5</th>\n",
       "      <td>Ford</td>\n",
       "      <td>focus</td>\n",
       "      <td>24275.603448</td>\n",
       "      <td>FR</td>\n",
       "    </tr>\n",
       "    <tr>\n",
       "      <th>6</th>\n",
       "      <td>Citroen</td>\n",
       "      <td>c3</td>\n",
       "      <td>16670.811388</td>\n",
       "      <td>FR</td>\n",
       "    </tr>\n",
       "    <tr>\n",
       "      <th>7</th>\n",
       "      <td>Volkswagen</td>\n",
       "      <td>golf</td>\n",
       "      <td>29822.840000</td>\n",
       "      <td>FR</td>\n",
       "    </tr>\n",
       "    <tr>\n",
       "      <th>8</th>\n",
       "      <td>Volkswagen</td>\n",
       "      <td>polo</td>\n",
       "      <td>21024.566667</td>\n",
       "      <td>FR</td>\n",
       "    </tr>\n",
       "    <tr>\n",
       "      <th>9</th>\n",
       "      <td>Audi</td>\n",
       "      <td>a3</td>\n",
       "      <td>35198.548611</td>\n",
       "      <td>FR</td>\n",
       "    </tr>\n",
       "    <tr>\n",
       "      <th>10</th>\n",
       "      <td>Fiat</td>\n",
       "      <td>500</td>\n",
       "      <td>17063.806452</td>\n",
       "      <td>FR</td>\n",
       "    </tr>\n",
       "    <tr>\n",
       "      <th>11</th>\n",
       "      <td>Volvo</td>\n",
       "      <td>xc40</td>\n",
       "      <td>42658.357143</td>\n",
       "      <td>FR</td>\n",
       "    </tr>\n",
       "    <tr>\n",
       "      <th>12</th>\n",
       "      <td>Opel</td>\n",
       "      <td>corsa</td>\n",
       "      <td>18114.786164</td>\n",
       "      <td>FR</td>\n",
       "    </tr>\n",
       "    <tr>\n",
       "      <th>13</th>\n",
       "      <td>Citroen</td>\n",
       "      <td>c4</td>\n",
       "      <td>29007.781022</td>\n",
       "      <td>FR</td>\n",
       "    </tr>\n",
       "    <tr>\n",
       "      <th>14</th>\n",
       "      <td>BMW</td>\n",
       "      <td>x1</td>\n",
       "      <td>40394.313609</td>\n",
       "      <td>FR</td>\n",
       "    </tr>\n",
       "  </tbody>\n",
       "</table>\n",
       "</div>"
      ],
      "text/plain": [
       "   Manufacturer   Model         Price Country\n",
       "0       Renault  captur  22369.328000      IT\n",
       "1          Audi      a1  27257.579747      IT\n",
       "2           BMW      x3  55861.993056      IT\n",
       "3          Ford   focus  23293.728916      IT\n",
       "4        Toyota   yaris  23621.160000      IT\n",
       "5       Citroen      c3  16524.450658      IT\n",
       "6    Volkswagen    golf  30328.117493      IT\n",
       "7    Volkswagen    polo  18399.377581      IT\n",
       "8          Audi      a3  34687.745455      IT\n",
       "9         Volvo    xc40  39342.261538      IT\n",
       "10         Fiat     500  15147.932115      IT\n",
       "11      Citroen      c4  23881.257143      IT\n",
       "12         Opel   corsa  16736.340050      IT\n",
       "13          BMW      x1  40438.139286      IT\n",
       "14         Ford  fiesta  18297.989051      IT\n",
       "0       Renault  captur  22718.260054      DE\n",
       "1          Audi      a1  26777.513784      DE\n",
       "2           BMW      x3  53107.781407      DE\n",
       "3          Ford   focus  27260.837563      DE\n",
       "4        Toyota   yaris  24258.592453      DE\n",
       "5       Citroen      c3  16975.720000      DE\n",
       "6    Volkswagen    golf  31848.613636      DE\n",
       "7    Volkswagen    polo  22158.505025      DE\n",
       "8          Audi      a3  33271.100251      DE\n",
       "9         Volvo    xc40  40543.720000      DE\n",
       "10         Fiat     500  15490.948127      DE\n",
       "11      Citroen      c4  25484.901639      DE\n",
       "12         Opel   corsa  18643.766332      DE\n",
       "13          BMW      x1  39117.899749      DE\n",
       "14         Ford  fiesta  20098.654135      DE\n",
       "0          Ford  fiesta  15222.944785      ES\n",
       "1       Renault  captur  21100.963855      ES\n",
       "2          Audi      a1  23719.864865      ES\n",
       "3           BMW      x3  53653.076923      ES\n",
       "4        Toyota   yaris  18882.748899      ES\n",
       "5          Ford   focus  21394.958678      ES\n",
       "6       Citroen      c3  15741.790036      ES\n",
       "7    Volkswagen    golf  28905.598101      ES\n",
       "8    Volkswagen    polo  18815.753521      ES\n",
       "9          Audi      a3  30901.858357      ES\n",
       "10         Fiat     500  14625.336364      ES\n",
       "11        Volvo    xc40  34928.555556      ES\n",
       "12         Opel   corsa  15392.690583      ES\n",
       "13      Citroen      c4  22888.560748      ES\n",
       "14          BMW      x1  37139.835165      ES\n",
       "0          Ford  fiesta  16430.115385      FR\n",
       "1       Renault  captur  22786.758410      FR\n",
       "2          Audi      a1  27800.494118      FR\n",
       "3           BMW      x3  57721.186869      FR\n",
       "4        Toyota   yaris  21070.620690      FR\n",
       "5          Ford   focus  24275.603448      FR\n",
       "6       Citroen      c3  16670.811388      FR\n",
       "7    Volkswagen    golf  29822.840000      FR\n",
       "8    Volkswagen    polo  21024.566667      FR\n",
       "9          Audi      a3  35198.548611      FR\n",
       "10         Fiat     500  17063.806452      FR\n",
       "11        Volvo    xc40  42658.357143      FR\n",
       "12         Opel   corsa  18114.786164      FR\n",
       "13      Citroen      c4  29007.781022      FR\n",
       "14          BMW      x1  40394.313609      FR"
      ]
     },
     "execution_count": 5,
     "metadata": {},
     "output_type": "execute_result"
    }
   ],
   "source": [
    "frames = [dfIT, dfDE, dfES, dfFR]\n",
    "result = pd.concat(frames)\n",
    "result"
   ]
  },
  {
   "cell_type": "code",
   "execution_count": 6,
   "id": "dc9df056",
   "metadata": {
    "pycharm": {
     "name": "#%%\n"
    }
   },
   "outputs": [
    {
     "data": {
      "image/png": "[encoded data removed]",
      "text/plain": [
       "<Figure size 432x288 with 1 Axes>"
      ]
     },
     "metadata": {
      "needs_background": "light"
     },
     "output_type": "display_data"
    }
   ],
   "source": [
    "df = result[(result['Manufacturer'] == 'Audi') & (result['Model'] == 'a1')]\n",
    "price = df['Price'].values\n",
    "country = df['Country'].values\n",
    "    \n",
    "df = pd.DataFrame({'Price': price}, index=country)\n",
    "df.plot(kind='bar', ax=plt.subplot(121), title='Audi A1', legend=False)\n",
    "plt.xlabel(\"Country\")\n",
    "plt.ylabel(\"Price\")\n",
    "plt.savefig(\"C://Users//matte//OneDrive//Desktop//data mining//datasetAutoScout//bymodel//images//audia1.png\")"
   ]
  },
  {
   "cell_type": "code",
   "execution_count": 7,
   "id": "97450c91",
   "metadata": {
    "pycharm": {
     "name": "#%%\n"
    }
   },
   "outputs": [
    {
     "data": {
      "image/png": "[encoded data removed]",
      "text/plain": [
       "<Figure size 432x288 with 1 Axes>"
      ]
     },
     "metadata": {
      "needs_background": "light"
     },
     "output_type": "display_data"
    }
   ],
   "source": [
    "df = result[(result['Manufacturer'] == 'BMW') & (result['Model'] == 'x1')]\n",
    "price = df['Price'].values\n",
    "country = df['Country'].values\n",
    "    \n",
    "df = pd.DataFrame({'Price': price}, index=country)\n",
    "df.plot(kind='bar', ax=plt.subplot(121), title='BMW X1', legend=False)\n",
    "plt.xlabel(\"Country\")\n",
    "plt.ylabel(\"Price\")\n",
    "plt.savefig(\"C://Users//matte//OneDrive//Desktop//data mining//datasetAutoScout//bymodel//images//bmwx1.png\")"
   ]
  },
  {
   "cell_type": "code",
   "execution_count": 8,
   "id": "85a37558",
   "metadata": {
    "pycharm": {
     "name": "#%%\n"
    }
   },
   "outputs": [
    {
     "data": {
      "image/png": "[encoded data removed]",
      "text/plain": [
       "<Figure size 432x288 with 1 Axes>"
      ]
     },
     "metadata": {
      "needs_background": "light"
     },
     "output_type": "display_data"
    }
   ],
   "source": [
    "df = result[(result['Manufacturer'] == 'Audi') & (result['Model'] == 'a3')]\n",
    "price = df['Price'].values\n",
    "country = df['Country'].values\n",
    "    \n",
    "df = pd.DataFrame({'Price': price}, index=country)\n",
    "df.plot(kind='bar', ax=plt.subplot(121), title='Audi A3', legend=False)\n",
    "plt.xlabel(\"Country\")\n",
    "plt.ylabel(\"Price\")\n",
    "plt.savefig(\"C://Users//matte//OneDrive//Desktop//data mining//datasetAutoScout//bymodel//images//audia3.png\")"
   ]
  },
  {
   "cell_type": "code",
   "execution_count": 9,
   "id": "9c37f983",
   "metadata": {
    "pycharm": {
     "name": "#%%\n"
    }
   },
   "outputs": [
    {
     "data": {
      "image/png": "[encoded data removed]",
      "text/plain": [
       "<Figure size 432x288 with 1 Axes>"
      ]
     },
     "metadata": {
      "needs_background": "light"
     },
     "output_type": "display_data"
    }
   ],
   "source": [
    "df = result[(result['Manufacturer'] == 'BMW') & (result['Model'] == 'x3')]\n",
    "price = df['Price'].values\n",
    "country = df['Country'].values\n",
    "    \n",
    "df = pd.DataFrame({'Price': price}, index=country)\n",
    "plt.xlabel(\"Country\")\n",
    "plt.ylabel(\"Price\")\n",
    "df.plot(kind='bar', ax=plt.subplot(121), title='BMW X3', legend=False)\n",
    "plt.savefig(\"C://Users//matte//OneDrive//Desktop//data mining//datasetAutoScout//bymodel//images//bmwx3.png\")"
   ]
  },
  {
   "cell_type": "code",
   "execution_count": 10,
   "id": "b5ff52b4",
   "metadata": {
    "pycharm": {
     "name": "#%%\n"
    }
   },
   "outputs": [
    {
     "data": {
      "image/png": "[encoded data removed]",
      "text/plain": [
       "<Figure size 432x288 with 1 Axes>"
      ]
     },
     "metadata": {
      "needs_background": "light"
     },
     "output_type": "display_data"
    }
   ],
   "source": [
    "df = result[(result['Manufacturer'] == 'Ford') & (result['Model'] == 'fiesta')]\n",
    "price = df['Price'].values\n",
    "country = df['Country'].values\n",
    "    \n",
    "df = pd.DataFrame({'Price': price}, index=country)\n",
    "df.plot(kind='bar', ax=plt.subplot(121), title='Ford Fiesta', legend=False)\n",
    "plt.xlabel(\"Country\")\n",
    "plt.ylabel(\"Price\")\n",
    "plt.savefig(\"C://Users//matte//OneDrive//Desktop//data mining//datasetAutoScout//bymodel//images//fordfiesta.png\")"
   ]
  },
  {
   "cell_type": "code",
   "execution_count": 11,
   "id": "6b804d3e",
   "metadata": {
    "pycharm": {
     "name": "#%%\n"
    }
   },
   "outputs": [
    {
     "data": {
      "image/png": "[encoded data removed]",
      "text/plain": [
       "<Figure size 432x288 with 1 Axes>"
      ]
     },
     "metadata": {
      "needs_background": "light"
     },
     "output_type": "display_data"
    }
   ],
   "source": [
    "df = result[(result['Manufacturer'] == 'Ford') & (result['Model'] == 'focus')]\n",
    "price = df['Price'].values\n",
    "country = df['Country'].values\n",
    "    \n",
    "df = pd.DataFrame({'Price': price}, index=country)\n",
    "df.plot(kind='bar', ax=plt.subplot(121), title='Ford Focus', legend=False)\n",
    "plt.xlabel(\"Country\")\n",
    "plt.ylabel(\"Price\")\n",
    "plt.savefig(\"C://Users//matte//OneDrive//Desktop//data mining//datasetAutoScout//bymodel//images//fordfocus.png\")"
   ]
  },
  {
   "cell_type": "code",
   "execution_count": 12,
   "id": "c57dd6e5",
   "metadata": {
    "pycharm": {
     "name": "#%%\n"
    }
   },
   "outputs": [
    {
     "data": {
      "image/png": "[encoded data removed]",
      "text/plain": [
       "<Figure size 432x288 with 1 Axes>"
      ]
     },
     "metadata": {
      "needs_background": "light"
     },
     "output_type": "display_data"
    }
   ],
   "source": [
    "df = result[(result['Manufacturer'] == 'Volkswagen') & (result['Model'] == 'golf')]\n",
    "price = df['Price'].values\n",
    "country = df['Country'].values\n",
    "    \n",
    "df = pd.DataFrame({'Price': price}, index=country)\n",
    "df.plot(kind='bar', ax=plt.subplot(121), title='Volkswagen Golf', legend=False)\n",
    "plt.xlabel(\"Country\")\n",
    "plt.ylabel(\"Price\")\n",
    "plt.savefig(\"C://Users//matte//OneDrive//Desktop//data mining//datasetAutoScout//bymodel//images//volkgolf.png\")"
   ]
  },
  {
   "cell_type": "code",
   "execution_count": 13,
   "id": "cfdd1026",
   "metadata": {
    "pycharm": {
     "name": "#%%\n"
    }
   },
   "outputs": [
    {
     "data": {
      "image/png": "[encoded data removed]",
      "text/plain": [
       "<Figure size 432x288 with 1 Axes>"
      ]
     },
     "metadata": {
      "needs_background": "light"
     },
     "output_type": "display_data"
    }
   ],
   "source": [
    "df = result[(result['Manufacturer'] == 'Volkswagen') & (result['Model'] == 'polo')]\n",
    "price = df['Price'].values\n",
    "country = df['Country'].values\n",
    "    \n",
    "df = pd.DataFrame({'Price': price}, index=country)\n",
    "df.plot(kind='bar', ax=plt.subplot(121), title='Volkswagen Polo', legend=False)\n",
    "plt.xlabel(\"Country\")\n",
    "plt.ylabel(\"Price\")\n",
    "plt.savefig(\"C://Users//matte//OneDrive//Desktop//data mining//datasetAutoScout//bymodel//images//volkpolo.png\")"
   ]
  },
  {
   "cell_type": "code",
   "execution_count": 14,
   "id": "e6e28cbe",
   "metadata": {
    "pycharm": {
     "name": "#%%\n"
    }
   },
   "outputs": [
    {
     "data": {
      "image/png": "[encoded data removed]",
      "text/plain": [
       "<Figure size 432x288 with 1 Axes>"
      ]
     },
     "metadata": {
      "needs_background": "light"
     },
     "output_type": "display_data"
    }
   ],
   "source": [
    "df = result[(result['Manufacturer'] == 'Citroen') & (result['Model'] == 'c3')]\n",
    "price = df['Price'].values\n",
    "country = df['Country'].values\n",
    "    \n",
    "df = pd.DataFrame({'Price': price}, index=country)\n",
    "df.plot(kind='bar', ax=plt.subplot(121), title='Citroen C3', legend=False)\n",
    "plt.xlabel(\"Country\")\n",
    "plt.ylabel(\"Price\")\n",
    "plt.savefig(\"C://Users//matte//OneDrive//Desktop//data mining//datasetAutoScout//bymodel//images//citroenc3.png\")"
   ]
  },
  {
   "cell_type": "code",
   "execution_count": 15,
   "id": "058032ef",
   "metadata": {
    "pycharm": {
     "name": "#%%\n"
    }
   },
   "outputs": [
    {
     "data": {
      "image/png": "[encoded data removed]",
      "text/plain": [
       "<Figure size 432x288 with 1 Axes>"
      ]
     },
     "metadata": {
      "needs_background": "light"
     },
     "output_type": "display_data"
    }
   ],
   "source": [
    "df = result[(result['Manufacturer'] == 'Citroen') & (result['Model'] == 'c4')]\n",
    "price = df['Price'].values\n",
    "country = df['Country'].values\n",
    "    \n",
    "df = pd.DataFrame({'Price': price}, index=country)\n",
    "df.plot(kind='bar', ax=plt.subplot(121), title='Citroen C4', legend=False)\n",
    "plt.xlabel(\"Country\")\n",
    "plt.ylabel(\"Price\")\n",
    "plt.savefig(\"C://Users//matte//OneDrive//Desktop//data mining//datasetAutoScout//bymodel//images//citroenc4.png\")"
   ]
  },
  {
   "cell_type": "code",
   "execution_count": 16,
   "id": "9b323b4d",
   "metadata": {
    "pycharm": {
     "name": "#%%\n"
    }
   },
   "outputs": [
    {
     "data": {
      "image/png": "[encoded data removed]",
      "text/plain": [
       "<Figure size 432x288 with 1 Axes>"
      ]
     },
     "metadata": {
      "needs_background": "light"
     },
     "output_type": "display_data"
    }
   ],
   "source": [
    "df = result[(result['Manufacturer'] == 'Renault') & (result['Model'] == 'captur')]\n",
    "price = df['Price'].values\n",
    "country = df['Country'].values\n",
    "    \n",
    "df = pd.DataFrame({'Price': price}, index=country)\n",
    "df.plot(kind='bar', ax=plt.subplot(121), title='Renault Captur', legend=False)\n",
    "plt.xlabel(\"Country\")\n",
    "plt.ylabel(\"Price\")\n",
    "plt.savefig(\"C://Users//matte//OneDrive//Desktop//data mining//datasetAutoScout//bymodel//images//renaultcaptur.png\")"
   ]
  },
  {
   "cell_type": "code",
   "execution_count": 17,
   "id": "2a32b66f",
   "metadata": {
    "pycharm": {
     "name": "#%%\n"
    }
   },
   "outputs": [
    {
     "data": {
      "image/png": "[encoded data removed]",
      "text/plain": [
       "<Figure size 432x288 with 1 Axes>"
      ]
     },
     "metadata": {
      "needs_background": "light"
     },
     "output_type": "display_data"
    }
   ],
   "source": [
    "df = result[(result['Manufacturer'] == 'Fiat') & (result['Model'] == '500')]\n",
    "price = df['Price'].values\n",
    "country = df['Country'].values\n",
    "    \n",
    "df = pd.DataFrame({'Price': price}, index=country)\n",
    "df.plot(kind='bar', ax=plt.subplot(121), title='Fiat 500', legend=False)\n",
    "plt.xlabel(\"Country\")\n",
    "plt.ylabel(\"Price\")\n",
    "plt.savefig(\"C://Users//matte//OneDrive//Desktop//data mining//datasetAutoScout//bymodel//images//fiat500.png\")"
   ]
  },
  {
   "cell_type": "code",
   "execution_count": 18,
   "id": "b224812a",
   "metadata": {
    "pycharm": {
     "name": "#%%\n"
    }
   },
   "outputs": [
    {
     "data": {
      "image/png": "[encoded data removed]",
      "text/plain": [
       "<Figure size 432x288 with 1 Axes>"
      ]
     },
     "metadata": {
      "needs_background": "light"
     },
     "output_type": "display_data"
    }
   ],
   "source": [
    "df = result[(result['Manufacturer'] == 'Opel') & (result['Model'] == 'corsa')]\n",
    "price = df['Price'].values\n",
    "country = df['Country'].values\n",
    "    \n",
    "df = pd.DataFrame({'Price': price}, index=country)\n",
    "df.plot(kind='bar', ax=plt.subplot(121), title='Opel Corsa', legend=False)\n",
    "plt.xlabel(\"Country\")\n",
    "plt.ylabel(\"Price\")\n",
    "plt.savefig(\"C://Users//matte//OneDrive//Desktop//data mining//datasetAutoScout//bymodel//images//opelcorsa.png\")"
   ]
  },
  {
   "cell_type": "code",
   "execution_count": 19,
   "id": "ce154a66",
   "metadata": {
    "pycharm": {
     "name": "#%%\n"
    }
   },
   "outputs": [
    {
     "data": {
      "image/png": "[encoded data removed]",
      "text/plain": [
       "<Figure size 432x288 with 1 Axes>"
      ]
     },
     "metadata": {
      "needs_background": "light"
     },
     "output_type": "display_data"
    }
   ],
   "source": [
    "df = result[(result['Manufacturer'] == 'Toyota') & (result['Model'] == 'yaris')]\n",
    "price = df['Price'].values\n",
    "country = df['Country'].values\n",
    "    \n",
    "df = pd.DataFrame({'Price': price}, index=country)\n",
    "df.plot(kind='bar', ax=plt.subplot(121), title='Toyota Yaris', legend=False)\n",
    "plt.xlabel(\"Country\")\n",
    "plt.ylabel(\"Price\")\n",
    "plt.savefig(\"C://Users//matte//OneDrive//Desktop//data mining//datasetAutoScout//bymodel//images//toyotayaris.png\")"
   ]
  },
  {
   "cell_type": "code",
   "execution_count": 20,
   "id": "75637784",
   "metadata": {
    "pycharm": {
     "name": "#%%\n"
    }
   },
   "outputs": [
    {
     "data": {
      "image/png": "[encoded data removed]",
      "text/plain": [
       "<Figure size 432x288 with 1 Axes>"
      ]
     },
     "metadata": {
      "needs_background": "light"
     },
     "output_type": "display_data"
    }
   ],
   "source": [
    "df = result[(result['Manufacturer'] == 'Volvo') & (result['Model'] == 'xc40')]\n",
    "price = df['Price'].values\n",
    "country = df['Country'].values\n",
    "    \n",
    "df = pd.DataFrame({'Price': price}, index=country)\n",
    "df.plot(kind='bar', ax=plt.subplot(121), title='Volvo XC40', legend=False)\n",
    "plt.xlabel(\"Country\")\n",
    "plt.ylabel(\"Price\")\n",
    "plt.savefig(\"C://Users//matte//OneDrive//Desktop//data mining//datasetAutoScout//bymodel//images//volvoxc40.png\")"
   ]
  },
  {
   "cell_type": "code",
   "execution_count": null,
   "id": "188c3a96",
   "metadata": {
    "pycharm": {
     "name": "#%%\n"
    }
   },
   "outputs": [],
   "source": []
  }
 ],
 "metadata": {
  "kernelspec": {
   "display_name": "Python 3 (ipykernel)",
   "language": "python",
   "name": "python3"
  },
  "language_info": {
   "codemirror_mode": {
    "name": "ipython",
    "version": 3
   },
   "file_extension": ".py",
   "mimetype": "text/x-python",
   "name": "python",
   "nbconvert_exporter": "python",
   "pygments_lexer": "ipython3",
   "version": "3.9.12"
  }
 },
 "nbformat": 4,
 "nbformat_minor": 5
}
